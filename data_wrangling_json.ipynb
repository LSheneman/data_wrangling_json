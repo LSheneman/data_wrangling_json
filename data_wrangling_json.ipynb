{
 "cells": [
  {
   "cell_type": "markdown",
   "metadata": {},
   "source": [
    "# Data Wrangling with JSON\n",
    "\n",
    "****\n",
    "\n",
    "Here I will use a JSON file ('data/world_bank_projects.json') that contains information on government \n",
    "funded projects from across the globe to demostrate JSON data wrangling techniques."
   ]
  },
  {
   "cell_type": "markdown",
   "metadata": {},
   "source": [
    "## Import the Required Libraries "
   ]
  },
  {
   "cell_type": "code",
   "execution_count": 1,
   "metadata": {},
   "outputs": [],
   "source": [
    "import pandas as pd\n",
    "import json\n",
    "from pandas.io.json import json_normalize"
   ]
  },
  {
   "cell_type": "markdown",
   "metadata": {},
   "source": [
    "## Identify the top 10 countries in terms of projects funded"
   ]
  },
  {
   "cell_type": "code",
   "execution_count": 2,
   "metadata": {},
   "outputs": [
    {
     "name": "stdout",
     "output_type": "stream",
     "text": [
      "People's Republic of China         19\n",
      "Republic of Indonesia              19\n",
      "Socialist Republic of Vietnam      17\n",
      "Republic of India                  16\n",
      "Republic of Yemen                  13\n",
      "Kingdom of Morocco                 12\n",
      "People's Republic of Bangladesh    12\n",
      "Nepal                              12\n",
      "Republic of Mozambique             11\n",
      "Africa                             11\n",
      "Name: countryname, dtype: int64\n"
     ]
    },
    {
     "data": {
      "text/plain": [
       "<matplotlib.axes._subplots.AxesSubplot at 0x11d31fa90>"
      ]
     },
     "execution_count": 2,
     "metadata": {},
     "output_type": "execute_result"
    }
   ],
   "source": [
    "# Load into dataframe\n",
    "with open('data/world_bank_projects.json') as file:\n",
    "    json_df = pd.read_json(file)\n",
    "    \n",
    "# Count the number of projects each contry has and extract the top 10\n",
    "top_10_countries = json_df.countryname.value_counts().head(10)\n",
    "print(top_10_countries)\n",
    "\n",
    "# Graph results\n",
    "top_10_countries = top_10_countries.sort_values(ascending=True)\n",
    "top_10_countries.plot(kind='barh')"
   ]
  },
  {
   "cell_type": "markdown",
   "metadata": {},
   "source": [
    "## Find the top 10 types of projects funded."
   ]
  },
  {
   "cell_type": "code",
   "execution_count": 3,
   "metadata": {},
   "outputs": [
    {
     "data": {
      "text/plain": [
       "<matplotlib.axes._subplots.AxesSubplot at 0x11bea9e50>"
      ]
     },
     "execution_count": 3,
     "metadata": {},
     "output_type": "execute_result"
    },
    {
     "data": {
      "image/png": "[encoded data removed]",
      "text/plain": [
       "<Figure size 432x288 with 1 Axes>"
      ]
     },
     "metadata": {},
     "output_type": "display_data"
    }
   ],
   "source": [
    "# Load normalize json via  string object and extract project types via normalization\n",
    "with open('data/world_bank_projects.json') as file:\n",
    "    json_df = json.loads(file.read())\n",
    "    projects_df = json_normalize(json_df,'mjtheme_namecode')\n",
    "\n",
    "# Count the project themes and the extract the top 10\n",
    "top_10_projects = projects_df.name.value_counts().head(10)\n",
    "top_10_projects = top_10_projects.sort_values(ascending=True)\n",
    "\n",
    "# Graph results\n",
    "top_10_projects.plot(kind='barh')"
   ]
  },
  {
   "cell_type": "markdown",
   "metadata": {},
   "source": [
    "## Fill in the missing values in the major project themes."
   ]
  },
  {
   "cell_type": "code",
   "execution_count": 8,
   "metadata": {},
   "outputs": [
    {
     "name": "stdout",
     "output_type": "stream",
     "text": [
      "  code                                          name  \\\n",
      "0    8                             Human development   \n",
      "1   11                                                 \n",
      "2    1                           Economic management   \n",
      "3    6         Social protection and risk management   \n",
      "4    5                         Trade and integration   \n",
      "5    2                      Public sector governance   \n",
      "6   11  Environment and natural resources management   \n",
      "7    6         Social protection and risk management   \n",
      "8    7                   Social dev/gender/inclusion   \n",
      "9    7                   Social dev/gender/inclusion   \n",
      "\n",
      "                                         Themes  \n",
      "0                             Human development  \n",
      "1  Environment and natural resources management  \n",
      "2                           Economic management  \n",
      "3         Social protection and risk management  \n",
      "4                         Trade and integration  \n",
      "5                      Public sector governance  \n",
      "6  Environment and natural resources management  \n",
      "7         Social protection and risk management  \n",
      "8                   Social dev/gender/inclusion  \n",
      "9                   Social dev/gender/inclusion  \n",
      "\n",
      "\n",
      "<class 'pandas.core.frame.DataFrame'>\n",
      "RangeIndex: 1499 entries, 0 to 1498\n",
      "Data columns (total 3 columns):\n",
      "code      1499 non-null object\n",
      "name      1499 non-null object\n",
      "Themes    1499 non-null object\n",
      "dtypes: object(3)\n",
      "memory usage: 35.2+ KB\n",
      "None\n"
     ]
    }
   ],
   "source": [
    "coded_projects = projects_df.sort_values(['code', 'name'])\n",
    "coded_projects = coded_projects.replace(to_replace='', method='bfill')\n",
    "projects_df['Themes'] = coded_projects['name']\n",
    "print(projects_df.head(10))\n",
    "print('\\n')\n",
    "print(projects_df.info())"
   ]
  },
  {
   "cell_type": "code",
   "execution_count": null,
   "metadata": {},
   "outputs": [],
   "source": []
  }
 ],
 "metadata": {
  "kernelspec": {
   "display_name": "Python [default]",
   "language": "python",
   "name": "python2"
  },
  "language_info": {
   "codemirror_mode": {
    "name": "ipython",
    "version": 2
   },
   "file_extension": ".py",
   "mimetype": "text/x-python",
   "name": "python",
   "nbconvert_exporter": "python",
   "pygments_lexer": "ipython2",
   "version": "2.7.15"
  }
 },
 "nbformat": 4,
 "nbformat_minor": 1
}
